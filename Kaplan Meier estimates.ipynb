{
 "cells": [
  {
   "cell_type": "markdown",
   "id": "3426251d",
   "metadata": {},
   "source": [
    "# Kaplan Meier estimates Analysis"
   ]
  },
  {
   "cell_type": "markdown",
   "id": "e23db6c2",
   "metadata": {},
   "source": [
    "### Required libs"
   ]
  },
  {
   "cell_type": "code",
   "execution_count": 72,
   "id": "ff707991",
   "metadata": {},
   "outputs": [],
   "source": [
    "import lifelines\n",
    "import pandas as pd\n",
    "import numpy as np\n",
    "import matplotlib.pyplot as plt\n",
    "\n",
    "\n",
    "from lifelines import KaplanMeierFitter as KM\n",
    "from lifelines.statistics import logrank_test\n"
   ]
  },
  {
   "cell_type": "markdown",
   "id": "b34182a5",
   "metadata": {},
   "source": [
    "### Reading data from local system"
   ]
  },
  {
   "cell_type": "code",
   "execution_count": null,
   "id": "6898567a",
   "metadata": {},
   "outputs": [],
   "source": [
    "data = pd.read_csv(\"Obituaries_Dataset.csv\")"
   ]
  },
  {
   "cell_type": "code",
   "execution_count": 86,
   "id": "7b65e335",
   "metadata": {},
   "outputs": [],
   "source": [
    "#-----------------------------------------------------------------------------------------\n",
    "# Replacing Death values with 0,1 i.e if date of death present it will be as 1 otherwise 0\n",
    "#-----------------------------------------------------------------------------------------\n",
    "\n",
    "data['Death'] = np.where(data['Death'].isnull(),0,1)"
   ]
  },
  {
   "cell_type": "code",
   "execution_count": 87,
   "id": "13b2ed48",
   "metadata": {},
   "outputs": [],
   "source": [
    "#------------------------------------------------\n",
    "# Creating a subset of data with required columns\n",
    "#------------------------------------------------\n",
    "\n",
    "df = data[['Death','Age','Gender']]"
   ]
  },
  {
   "cell_type": "code",
   "execution_count": 88,
   "id": "d3d8b368",
   "metadata": {},
   "outputs": [
    {
     "data": {
      "text/html": [
       "<div>\n",
       "<style scoped>\n",
       "    .dataframe tbody tr th:only-of-type {\n",
       "        vertical-align: middle;\n",
       "    }\n",
       "\n",
       "    .dataframe tbody tr th {\n",
       "        vertical-align: top;\n",
       "    }\n",
       "\n",
       "    .dataframe thead th {\n",
       "        text-align: right;\n",
       "    }\n",
       "</style>\n",
       "<table border=\"1\" class=\"dataframe\">\n",
       "  <thead>\n",
       "    <tr style=\"text-align: right;\">\n",
       "      <th></th>\n",
       "      <th>Death</th>\n",
       "      <th>Age</th>\n",
       "      <th>Gender</th>\n",
       "    </tr>\n",
       "  </thead>\n",
       "  <tbody>\n",
       "    <tr>\n",
       "      <th>0</th>\n",
       "      <td>1</td>\n",
       "      <td>66.0</td>\n",
       "      <td>Male</td>\n",
       "    </tr>\n",
       "    <tr>\n",
       "      <th>1</th>\n",
       "      <td>1</td>\n",
       "      <td>43.0</td>\n",
       "      <td>Female</td>\n",
       "    </tr>\n",
       "    <tr>\n",
       "      <th>2</th>\n",
       "      <td>1</td>\n",
       "      <td>35.0</td>\n",
       "      <td>Male</td>\n",
       "    </tr>\n",
       "    <tr>\n",
       "      <th>3</th>\n",
       "      <td>1</td>\n",
       "      <td>54.0</td>\n",
       "      <td>Male</td>\n",
       "    </tr>\n",
       "    <tr>\n",
       "      <th>4</th>\n",
       "      <td>1</td>\n",
       "      <td>41.0</td>\n",
       "      <td>Female</td>\n",
       "    </tr>\n",
       "  </tbody>\n",
       "</table>\n",
       "</div>"
      ],
      "text/plain": [
       "   Death   Age  Gender\n",
       "0      1  66.0    Male\n",
       "1      1  43.0  Female\n",
       "2      1  35.0    Male\n",
       "3      1  54.0    Male\n",
       "4      1  41.0  Female"
      ]
     },
     "execution_count": 88,
     "metadata": {},
     "output_type": "execute_result"
    }
   ],
   "source": [
    "#-------------------------\n",
    "# Reading the subset data\n",
    "#-------------------------\n",
    "df.head()"
   ]
  },
  {
   "cell_type": "code",
   "execution_count": 89,
   "id": "306966fa",
   "metadata": {},
   "outputs": [
    {
     "data": {
      "text/plain": [
       "Death       0\n",
       "Age       784\n",
       "Gender      0\n",
       "dtype: int64"
      ]
     },
     "execution_count": 89,
     "metadata": {},
     "output_type": "execute_result"
    }
   ],
   "source": [
    "#---------------------------------\n",
    "# Checking for null values\n",
    "#---------------------------------\n",
    "\n",
    "\n",
    "df.isnull().sum()"
   ]
  },
  {
   "cell_type": "code",
   "execution_count": 94,
   "id": "88c6886b",
   "metadata": {},
   "outputs": [],
   "source": [
    "#----------------------------------------------------\n",
    "#Imputing null values in age column with median\n",
    "#----------------------------------------------------\n",
    "\n",
    "\n",
    "df[\"Age\"].fillna(df[\"Age\"].median(),inplace = True)"
   ]
  },
  {
   "cell_type": "code",
   "execution_count": null,
   "id": "efa8be43",
   "metadata": {},
   "outputs": [],
   "source": [
    "#-------------------------------------\n",
    "#Converting age data type float to int\n",
    "#-------------------------------------\n",
    "\n",
    "df['Age']  = df['Age'].astype(\"int\")"
   ]
  },
  {
   "cell_type": "code",
   "execution_count": 105,
   "id": "5eb5d6fd",
   "metadata": {},
   "outputs": [
    {
     "data": {
      "text/html": [
       "<div>\n",
       "<style scoped>\n",
       "    .dataframe tbody tr th:only-of-type {\n",
       "        vertical-align: middle;\n",
       "    }\n",
       "\n",
       "    .dataframe tbody tr th {\n",
       "        vertical-align: top;\n",
       "    }\n",
       "\n",
       "    .dataframe thead th {\n",
       "        text-align: right;\n",
       "    }\n",
       "</style>\n",
       "<table border=\"1\" class=\"dataframe\">\n",
       "  <thead>\n",
       "    <tr style=\"text-align: right;\">\n",
       "      <th></th>\n",
       "      <th>Death</th>\n",
       "      <th>Age</th>\n",
       "      <th>Gender</th>\n",
       "    </tr>\n",
       "  </thead>\n",
       "  <tbody>\n",
       "    <tr>\n",
       "      <th>0</th>\n",
       "      <td>1</td>\n",
       "      <td>66</td>\n",
       "      <td>1</td>\n",
       "    </tr>\n",
       "    <tr>\n",
       "      <th>1</th>\n",
       "      <td>1</td>\n",
       "      <td>43</td>\n",
       "      <td>0</td>\n",
       "    </tr>\n",
       "    <tr>\n",
       "      <th>2</th>\n",
       "      <td>1</td>\n",
       "      <td>35</td>\n",
       "      <td>1</td>\n",
       "    </tr>\n",
       "    <tr>\n",
       "      <th>3</th>\n",
       "      <td>1</td>\n",
       "      <td>54</td>\n",
       "      <td>1</td>\n",
       "    </tr>\n",
       "    <tr>\n",
       "      <th>4</th>\n",
       "      <td>1</td>\n",
       "      <td>41</td>\n",
       "      <td>0</td>\n",
       "    </tr>\n",
       "  </tbody>\n",
       "</table>\n",
       "</div>"
      ],
      "text/plain": [
       "   Death  Age  Gender\n",
       "0      1   66       1\n",
       "1      1   43       0\n",
       "2      1   35       1\n",
       "3      1   54       1\n",
       "4      1   41       0"
      ]
     },
     "execution_count": 105,
     "metadata": {},
     "output_type": "execute_result"
    }
   ],
   "source": [
    "#-------------------------\n",
    "# Reading the data after imputing\n",
    "#-------------------------\n",
    "\n",
    "df.head(5)"
   ]
  },
  {
   "cell_type": "markdown",
   "id": "80e85e18",
   "metadata": {},
   "source": [
    "The column Age show how long the patient lived before they died\n",
    "\n",
    "The column gender says whether died person male or female. gender is 1 if the gender is Male and 0 if gender is female\n",
    "\n"
   ]
  },
  {
   "cell_type": "code",
   "execution_count": 108,
   "id": "e796c46d",
   "metadata": {},
   "outputs": [],
   "source": []
  },
  {
   "cell_type": "code",
   "execution_count": 127,
   "id": "3e94bd54",
   "metadata": {},
   "outputs": [
    {
     "data": {
      "text/plain": [
       "<AxesSubplot:xlabel='timeline'>"
      ]
     },
     "execution_count": 127,
     "metadata": {},
     "output_type": "execute_result"
    },
    {
     "data": {
      "image/png": "[encoded data removed]",
      "text/plain": [
       "<Figure size 432x288 with 1 Axes>"
      ]
     },
     "metadata": {
      "needs_background": "light"
     },
     "output_type": "display_data"
    }
   ],
   "source": [
    "#-----------------------------------\n",
    "# Ploting the Kaplan Meier Plot\n",
    "#-----------------------------------\n",
    "\n",
    "durations = df[\"Age\"]\n",
    "event_observed = df[\"Gender\"]\n",
    "kmf = KaplanMeierFitter(label=\"Gender\")\n",
    "kmf.fit(durations,event_observed)\n",
    "kmf.plot()"
   ]
  },
  {
   "cell_type": "markdown",
   "id": "f331212a",
   "metadata": {},
   "source": [
    "+ Kaplan meier plot is a Non Parametric statistic, used to estimate the survival function from the lifetime data\n",
    "\n",
    "+ Kaplan meier Curve is an estimator used to estimate the survival function. the Kaplan meier curve is the visual representation of the function that shows the pro of an event at a respective time interval.\n",
    "\n",
    "+ Survival anaylsis is used to estimate the lifespan of a particular  population under study.it is also called time to event.\n",
    "  Analysis as the goal is to estimate the time for an individual or a group of individuals to experience an event of interest."
   ]
  },
  {
   "cell_type": "code",
   "execution_count": null,
   "id": "bc552ffc",
   "metadata": {},
   "outputs": [],
   "source": []
  }
 ],
 "metadata": {
  "kernelspec": {
   "display_name": "Python 3",
   "language": "python",
   "name": "python3"
  },
  "language_info": {
   "codemirror_mode": {
    "name": "ipython",
    "version": 3
   },
   "file_extension": ".py",
   "mimetype": "text/x-python",
   "name": "python",
   "nbconvert_exporter": "python",
   "pygments_lexer": "ipython3",
   "version": "3.8.8"
  }
 },
 "nbformat": 4,
 "nbformat_minor": 5
}
